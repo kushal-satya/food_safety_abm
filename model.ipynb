{
 "cells": [
  {
   "cell_type": "code",
   "execution_count": null,
   "metadata": {},
   "outputs": [],
   "source": [
    "def create_box(box_count):\n",
    "    "
   ]
  },
  {
   "cell_type": "code",
   "execution_count": null,
   "metadata": {},
   "outputs": [],
   "source": [
    "import random\n",
    "\n",
    "# Define constants\n",
    "NUM_FARMERS = 100\n",
    "NUM_TEST_STAGES = 4\n",
    "F_TEST_RATE = 0.2\n",
    "P_TEST_RATE = 0.1\n",
    "D_TEST_RATE = 0.05\n",
    "C_TEST_RATE = 0.01\n",
    "EFFORT_RANGE = (0, 1)\n",
    "TECH_RANGE = (0, 1)\n",
    "SOCIAL_RANGE = (0, 1)\n",
    "PENALTY_RANGE = (0, 1)\n",
    "MAX_BOXES_PER_DIST = 1000\n",
    "NUM_CUSTOMERS = 100\n",
    "CUSTOMER_DEMAND = 10\n",
    "\n",
    "# Define variables\n",
    "f_test_history = [[[0 for _ in range(NUM_TEST_STAGES)] for _ in range(MAX_BOXES_PER_DIST)] for _ in range(NUM_FARMERS)]\n",
    "p_test_history = [[[0 for _ in range(NUM_TEST_STAGES)] for _ in range(MAX_BOXES_PER_DIST)] for _ in range(NUM_FARMERS)]\n",
    "d_test_history = [[[0 for _ in range(NUM_TEST_STAGES)] for _ in range(MAX_BOXES_PER_DIST)] for _ in range(NUM_FARMERS)]\n",
    "c_test_history = [[[0 for _ in range(NUM_TEST_STAGES)] for _ in range(MAX_BOXES_PER_DIST)] for _ in range(NUM_CUSTOMERS)]\n",
    "farmers = []\n",
    "distributors = []\n",
    "retailers = []\n",
    "customers = []\n",
    "transport_costs = []\n",
    "contaminate_drop = []\n",
    "f_to_p_box = []\n",
    "p_to_d_box = []\n",
    "d_to_r_box = []\n",
    "r_to_c_box = []\n",
    "\n",
    "# Define helper functions\n",
    "def generate_random_number():\n",
    "    return random.random()\n",
    "\n",
    "def generate_random_binary(prob):\n",
    "    return 1 if generate_random_number() < prob else 0\n",
    "\n",
    "def is_box_contaminated(box_id, test_history, test_rate):\n",
    "    return test_history[box_id][-1] == 1 or generate_random_binary(test_rate)\n",
    "\n",
    "def get_contaminated_boxes(box_ids, test_history):\n",
    "    contaminated_boxes = []\n",
    "    for box_id in box_ids:\n",
    "        if test_history[box_id][-1] == 1:\n",
    "            contaminated_boxes.append(box_id)\n",
    "    return contaminated_boxes\n",
    "\n",
    "def get_box_plot(box_id):\n",
    "    return box_id % 10\n",
    "\n",
    "def get_transport_cost(distance):\n",
    "    return distance * 0.1\n",
    "\n",
    "def initialize_farmers():\n",
    "    for i in range(NUM_FARMERS):\n",
    "        farmers.append({\n",
    "            \"id\": i,\n",
    "            \"effort\": random.uniform(*EFFORT_RANGE),\n",
    "            \"technology\": random.uniform(*TECH_RANGE),\n",
    "            \"social_connectedness\": [random.uniform(*SOCIAL_RANGE) for _ in range(NUM_FARMERS)],\n",
    "            \"penalty\": random.uniform(*PENALTY_RANGE)\n",
    "        })\n",
    "\n",
    "def initialize_distributors():\n",
    "    for i in range(NUM_FARMERS):\n",
    "        distributors.append({\n",
    "            \"id\": i,\n",
    "            \"cur_box_count\": 0\n",
    "        })\n",
    "\n",
    "def initialize_retailers():\n",
    "    for i in range(NUM_CUSTOMERS):\n",
    "        retailers.append({\n",
    "            \"id\": i,\n",
    "            \"boxes\": [],\n",
    "            \"demand\": CUSTOMER_DEMAND\n",
    "        })\n",
    "\n",
    "def farm_testing_stage():\n",
    "    # Generate f_test_numbers for all boxes\n",
    "    f_test_numbers = [generate_random_number() for _ in range(MAX_BOXES_PER_DIST)]\n",
    "\n",
    "    # Determine which boxes are contaminated\n",
    "    f_test_contaminated_boxes = [1 if f_test_numbers[i] < F_TEST_RATE else 0 for i in range(MAX_BOXES_PER_DIST)]\n",
    "\n",
    "    # Update f_test_history matrix\n",
    "    for i in range(MAX_BOXES_PER_DIST):\n",
    "        f_test_history[i][-1][0] = f_test_contaminated_boxes[i]\n",
    "\n",
    "    # Find location of contaminated boxes and mark all\n",
    "    for i in range(NUM_FARMERS):\n",
    "        farmer = farmers[i]\n",
    "        contaminated_boxes = get_contaminated_boxes(farmer[\"boxes\"], f_test_history[i], F_TEST_RATE)\n",
    "    for box_id in contaminated_boxes:\n",
    "        f_to_p_box.append((i, box_id))\n",
    "\n",
    "# Generate p_test_numbers for all boxes held by distributors\n",
    "def distributor_testing_stage():\n",
    "    p_test_numbers = [generate_random_number() for _ in range(sum([distributor[\"cur_box_count\"] for distributor in distributors]))]\n",
    "    # Determine which boxes are contaminated\n",
    "    p_test_contaminated_boxes = [1 if p_test_numbers[i] < P_TEST_RATE else 0 for i in range(len(p_test_numbers))]\n",
    "\n",
    "    # Update p_test_history matrix\n",
    "    box_idx = 0\n",
    "    for i in range(NUM_FARMERS):\n",
    "        for j in range(distributors[i][\"cur_box_count\"]):\n",
    "            p_test_history[i][j][-1] = p_test_contaminated_boxes[box_idx]\n",
    "            box_idx += 1\n",
    "\n",
    "    # Find location of contaminated boxes and mark all as such in the p_to_d_box list\n",
    "    for i in range(NUM_FARMERS):\n",
    "        distributor = distributors[i]\n",
    "        start_idx = sum([distributors[j][\"cur_box_count\"] for j in range(i)])\n",
    "        end_idx = start_idx + distributor[\"cur_box_count\"]\n",
    "        contaminated_boxes = get_contaminated_boxes(range(start_idx, end_idx), p_test_history[i])\n",
    "        for box_id in contaminated_boxes:\n",
    "            p_to_d_box.append((i, box_id))\n",
    "\n",
    "# Generate d_test_numbers for all boxes held by retailers\n",
    "def retailer_testing_stage():\n",
    "    d_test_numbers = [generate_random_number() for _ in range(sum([len(retailer[\"boxes\"]) for retailer in retailers]))]\n",
    "\n",
    "    # Determine which boxes are contaminated\n",
    "    d_test_contaminated_boxes = [1 if d_test_numbers[i] < D_TEST_RATE else 0 for i in range(len(d_test_numbers))]\n",
    "\n",
    "    # Update d_test_history matrix\n",
    "    box_idx = 0\n",
    "    for retailer in retailers:\n",
    "        for i in range(len(retailer[\"boxes\"])):\n",
    "            d_test_history[retailer[\"boxes\"][i]][-1] = d_test_contaminated_boxes[box_idx]\n",
    "            box_idx += 1\n",
    "\n",
    "    # Find location of contaminated boxes and mark all as such in the d_to_r_box list\n",
    "    for i in range(NUM_CUSTOMERS):\n",
    "        retailer = retailers[i]\n",
    "        contaminated_boxes = get_contaminated_boxes(retailer[\"boxes\"], d_test_history)\n",
    "        for box_id in contaminated_boxes:\n",
    "            d_to_r_box.append((i, box_id))\n",
    "    \n",
    "# Generate c_test_numbers for all customers\n",
    "def customer_testing_stage():\n",
    "    c_test_numbers = [generate_random_number() for _ in range(NUM_CUSTOMERS)]\n",
    "\n",
    "    # Determine which boxes are contaminated\n",
    "    c_test_contaminated_boxes = [1 if c_test_numbers[i] < C_TEST_RATE else 0 for i in range(NUM_CUSTOMERS)]\n",
    "\n",
    "    # Update c_test_history matrix\n",
    "    for i in range(NUM_CUSTOMERS):\n",
    "        c_test_history[i][-1] = c_test_contaminated_boxes[i]\n",
    "\n",
    "    # Find location of contaminated boxes and mark all as such in the r_to_c_box list\n",
    "    for i in range(NUM_CUSTOMERS):\n",
    "        if c_test_history[i][-1] == 1:\n",
    "            for box_id in retailers[i][\"boxes\"]:\n",
    "                r_to_c_box.append((i, box_id))\n",
    "                \n",
    "def update_distributor_inventory():\n",
    "    for i in range(NUM_FARMERS):\n",
    "        for j in range(len(farmers[i][\"boxes\"])):\n",
    "            if (i, j) not in f_to_p_box:\n",
    "                distributors[i][\"cur_box_count\"] += 1\n",
    "    for i in range(NUM_FARMERS):\n",
    "        for j in range(len(d_test_history[i])):\n",
    "            if d_test_history[i][j][-1] == 0 and (i, j) not in p_to_d_box:\n",
    "                retailers[i][\"\n",
    "\n"
   ]
  },
  {
   "attachments": {},
   "cell_type": "markdown",
   "metadata": {},
   "source": [
    "Please do a code in python. Use numpy and Numba wherever possible and make the code as fastest as it can be. \n",
    "\n",
    "Box IDs should be in a list. Help me create an unique ID for each box helping to identify farm and plot. The boxes are run in five stages F, P, D, R, C and we need to be able to identify each box at each stage so make sure to include this also in ID. We have farm_population farms, with each having plot_per_farm plots. Each plot has box_per_plot boxes.\n",
    "\n",
    "Set some of the boxes as contaminated boxes determined by contamination_rate is the fraction of the boxes are contaminated. \n",
    "\n",
    "In F stage of testing, testing rate is f_test_rate, and f_test_rate determines number of boxes tested randomly from all the boxes, if the tested box is a contaminated one, its ID should be noted and it should be dropped alongwith all the other boxes in the same plot as the tested contaminated box. Removed boxes have to be noted at each stagefor reporting. All the non-tested boxes and non-contaminated tested boxes will proceed to next stage of testing. \n",
    "\n",
    "The remaining boxes pass on to P stage, D stage and R stage of testing, where we have a similar testing until the end. "
   ]
  },
  {
   "cell_type": "code",
   "execution_count": 56,
   "metadata": {},
   "outputs": [
    {
     "ename": "KeyboardInterrupt",
     "evalue": "",
     "output_type": "error",
     "traceback": [
      "\u001b[0;31m---------------------------------------------------------------------------\u001b[0m",
      "\u001b[0;31mKeyboardInterrupt\u001b[0m                         Traceback (most recent call last)",
      "\u001b[1;32m/Users/kushalkumar/Library/CloudStorage/Box-Box/Cornell_Spring_2023/RAM/Food Safety Project/food_safety_abm/model.ipynb Cell 4\u001b[0m in \u001b[0;36m2\n\u001b[1;32m     <a href='vscode-notebook-cell:/Users/kushalkumar/Library/CloudStorage/Box-Box/Cornell_Spring_2023/RAM/Food%20Safety%20Project/food_safety_abm/model.ipynb#X22sZmlsZQ%3D%3D?line=25'>26</a>\u001b[0m         \u001b[39mfor\u001b[39;00m b \u001b[39min\u001b[39;00m boxes:\n\u001b[1;32m     <a href='vscode-notebook-cell:/Users/kushalkumar/Library/CloudStorage/Box-Box/Cornell_Spring_2023/RAM/Food%20Safety%20Project/food_safety_abm/model.ipynb#X22sZmlsZQ%3D%3D?line=26'>27</a>\u001b[0m             \u001b[39mif\u001b[39;00m b\u001b[39m.\u001b[39mstartswith(\u001b[39mf\u001b[39m\u001b[39m\"\u001b[39m\u001b[39m{\u001b[39;00mfarm\u001b[39m}\u001b[39;00m\u001b[39m_\u001b[39m\u001b[39m{\u001b[39;00mplot\u001b[39m}\u001b[39;00m\u001b[39m_\u001b[39m\u001b[39m\"\u001b[39m):\n\u001b[0;32m---> <a href='vscode-notebook-cell:/Users/kushalkumar/Library/CloudStorage/Box-Box/Cornell_Spring_2023/RAM/Food%20Safety%20Project/food_safety_abm/model.ipynb#X22sZmlsZQ%3D%3D?line=27'>28</a>\u001b[0m                 boxes\u001b[39m.\u001b[39mremove(b)\n\u001b[1;32m     <a href='vscode-notebook-cell:/Users/kushalkumar/Library/CloudStorage/Box-Box/Cornell_Spring_2023/RAM/Food%20Safety%20Project/food_safety_abm/model.ipynb#X22sZmlsZQ%3D%3D?line=29'>30</a>\u001b[0m \u001b[39m# P, D, and R stages of testing\u001b[39;00m\n\u001b[1;32m     <a href='vscode-notebook-cell:/Users/kushalkumar/Library/CloudStorage/Box-Box/Cornell_Spring_2023/RAM/Food%20Safety%20Project/food_safety_abm/model.ipynb#X22sZmlsZQ%3D%3D?line=30'>31</a>\u001b[0m \u001b[39mfor\u001b[39;00m stage \u001b[39min\u001b[39;00m [\u001b[39m\"\u001b[39m\u001b[39mP\u001b[39m\u001b[39m\"\u001b[39m, \u001b[39m\"\u001b[39m\u001b[39mD\u001b[39m\u001b[39m\"\u001b[39m, \u001b[39m\"\u001b[39m\u001b[39mR\u001b[39m\u001b[39m\"\u001b[39m]:\n",
      "\u001b[0;31mKeyboardInterrupt\u001b[0m: "
     ]
    }
   ],
   "source": [
    "import random\n",
    "\n",
    "farm_population = 100\n",
    "plot_per_farm = 50\n",
    "box_per_plot = 200\n",
    "contamination_rate = 0.05\n",
    "f_test_rate = 0.1\n",
    "\n",
    "# Create box IDs\n",
    "boxes = []\n",
    "for farm in range(1, farm_population + 1):\n",
    "    for plot in range(1, plot_per_farm + 1):\n",
    "        for box in range(1, box_per_plot + 1):\n",
    "            box_id = f\"{farm}_{plot}_{box}\"\n",
    "            boxes.append(box_id)\n",
    "\n",
    "# Set some of the boxes as contaminated boxes\n",
    "contaminated_boxes = random.sample(boxes, int(len(boxes) * contamination_rate))\n",
    "\n",
    "# F stage of testing\n",
    "tested_boxes_f = random.sample(boxes, int(len(boxes) * f_test_rate))\n",
    "for box in tested_boxes_f:\n",
    "    if box in contaminated_boxes:\n",
    "        # Drop all boxes in the same plot as the contaminated box\n",
    "        farm, plot, _ = box.split(\"_\")\n",
    "        for b in boxes:\n",
    "            if b.startswith(f\"{farm}_{plot}_\"):\n",
    "                boxes.remove(b)\n",
    "        \n",
    "# P, D, and R stages of testing\n",
    "for stage in [\"P\", \"D\", \"R\"]:\n",
    "    tested_boxes = random.sample(boxes, int(len(boxes) * f_test_rate))\n",
    "    for box in tested_boxes:\n",
    "        if box in contaminated_boxes:\n",
    "            # Drop all boxes in the same plot as the contaminated box\n",
    "            farm, plot, _ = box.split(\"_\")\n",
    "            for b in boxes:\n",
    "                if b.startswith(f\"{farm}_{plot}_\"):\n",
    "                    boxes.remove(b)\n",
    "                    \n",
    "# C stage of testing\n",
    "tested_boxes_c = boxes\n"
   ]
  },
  {
   "cell_type": "code",
   "execution_count": 55,
   "metadata": {},
   "outputs": [
    {
     "data": {
      "text/plain": [
       "['8', '3', '6']"
      ]
     },
     "execution_count": 55,
     "metadata": {},
     "output_type": "execute_result"
    }
   ],
   "source": [
    "tested_boxes[1].split(\"_\")"
   ]
  },
  {
   "cell_type": "code",
   "execution_count": 30,
   "metadata": {},
   "outputs": [
    {
     "data": {
      "text/plain": [
       "5000"
      ]
     },
     "execution_count": 30,
     "metadata": {},
     "output_type": "execute_result"
    }
   ],
   "source": [
    "farm_population = 10\n",
    "plot_per_farm = 5\n",
    "box_per_plot = 20\n",
    "\n",
    "# Initialize an empty list to store the box IDs\n",
    "box_ids = []\n",
    "\n",
    "# Loop over each farm, plot, and box\n",
    "for farm in range(1, farm_population + 1):\n",
    "    for plot in range(1, plot_per_farm + 1):\n",
    "        for box in range(1, box_per_plot + 1):\n",
    "            \n",
    "            # Generate the unique box ID\n",
    "            box_id = f'F{farm:02d}P{plot:02d}D{box:03d}'\n",
    "            \n",
    "            # Add the box ID for each stage to the list\n",
    "            \n",
    "            for stage in ['F', 'P', 'D', 'R', 'C']:\n",
    "                full_id = f'{box_id}{stage}'\n",
    "                box_ids.append(full_id)\n",
    "len(box_ids)"
   ]
  },
  {
   "cell_type": "code",
   "execution_count": 50,
   "metadata": {},
   "outputs": [
    {
     "name": "stdout",
     "output_type": "stream",
     "text": [
      "Number of tested boxes: 257\n",
      "Number of contaminated boxes: 0\n"
     ]
    }
   ],
   "source": [
    "import random\n",
    "\n",
    "# Parameters\n",
    "farm_population = 10\n",
    "plot_per_farm = 5\n",
    "box_per_plot = 20\n",
    "contamination_rate = 10\n",
    "f_test_rate = 0.2\n",
    "p_test_rate = 0.3\n",
    "\n",
    "# Generate unique box IDs\n",
    "box_ids = []\n",
    "for farm_id in range(farm_population):\n",
    "    for plot_id in range(plot_per_farm):\n",
    "        for box_id in range(box_per_plot):\n",
    "            box_ids.append(f\"B{box_id:02d}P{plot_id:02d}F{farm_id:02d}\")\n",
    "\n",
    "# Simulate testing\n",
    "tested_boxes = []\n",
    "contaminated_boxes = set()\n",
    "for box_id in box_ids:\n",
    "    # F stage testing\n",
    "    if random.random() < f_test_rate:\n",
    "        tested_boxes.append(box_id)\n",
    "        if box_id in contaminated_boxes:\n",
    "            # Remove all boxes in the same plot as the contaminated box\n",
    "            contaminated_plot = box_id[:5]  # \"BXXPXX\"\n",
    "            contaminated_boxes.update(\n",
    "                [b for b in box_ids if b.startswith(contaminated_plot)]\n",
    "            )\n",
    "        else:\n",
    "            # P stage testing\n",
    "            if random.random() < p_test_rate:\n",
    "                tested_boxes.append(box_id)\n",
    "                if box_id in contaminated_boxes:\n",
    "                    # Remove all boxes in the same plot as the contaminated box\n",
    "                    contaminated_plot = box_id[:5]  # \"BXXPXX\"\n",
    "                    contaminated_boxes.update(\n",
    "                        [b for b in box_ids if b.startswith(contaminated_plot)]\n",
    "                    )\n",
    "                else:\n",
    "                    # Box passed testing\n",
    "                    pass\n",
    "            else:\n",
    "                # Box passed testing\n",
    "                pass\n",
    "    else:\n",
    "        # Box passed testing\n",
    "        pass\n",
    "\n",
    "print(f\"Number of tested boxes: {len(tested_boxes)}\")\n",
    "print(f\"Number of contaminated boxes: {len(contaminated_boxes)}\")\n"
   ]
  },
  {
   "cell_type": "code",
   "execution_count": 42,
   "metadata": {},
   "outputs": [
    {
     "data": {
      "text/plain": [
       "array([0., 2., 0., 2., 0., 0., 1., 1., 1., 1., 0., 0., 6., 5., 2., 3., 0.,\n",
       "       0., 6., 2., 1., 0., 0., 2., 2., 0., 2., 5., 1., 0., 2., 3., 0., 1.,\n",
       "       4., 1., 1., 3., 2., 4., 0., 1., 0., 0., 2., 0., 2., 1., 3., 4., 0.,\n",
       "       2., 1., 4., 0., 1., 3., 0., 1., 3., 2., 0., 5., 1., 0., 0., 3., 2.,\n",
       "       1., 1., 0., 2., 2., 1., 1., 1., 1., 2., 3., 1., 4., 1., 0., 0., 2.,\n",
       "       0., 1., 0., 1., 4., 2., 0., 3., 4., 2., 0., 0., 1., 0., 2.])"
      ]
     },
     "execution_count": 42,
     "metadata": {},
     "output_type": "execute_result"
    }
   ],
   "source": [
    "import numpy as np\n",
    "\n",
    "customer_number = 100\n",
    "customer_demand = np.floor(np.abs(np.random.normal(1, 2, size=(customer_number,))))\n",
    "customer_demand"
   ]
  },
  {
   "cell_type": "code",
   "execution_count": 43,
   "metadata": {},
   "outputs": [
    {
     "data": {
      "text/plain": [
       "5.0"
      ]
     },
     "execution_count": 43,
     "metadata": {},
     "output_type": "execute_result"
    }
   ],
   "source": [
    "customer_demand[13]"
   ]
  },
  {
   "cell_type": "code",
   "execution_count": 14,
   "metadata": {},
   "outputs": [
    {
     "name": "stdout",
     "output_type": "stream",
     "text": [
      "100\n"
     ]
    },
    {
     "data": {
      "text/plain": [
       "10010"
      ]
     },
     "execution_count": 14,
     "metadata": {},
     "output_type": "execute_result"
    }
   ],
   "source": [
    "import math\n",
    "\n",
    "\n",
    "farm_population=1\n",
    "plot_per_farm=10\n",
    "box_per_plot=10\n",
    "\n",
    "#box_id = [i * 10000 + j for i in range(1, farm_population + 1) for j in range(1, plot_per_farm + 1) for _ in range(1, box_per_plot + 1)]\n",
    "box_id=[]\n",
    "\n",
    "num_boxes=farm_population*plot_per_farm*box_per_plot\n",
    "digits = int(math.log10(num_boxes))+1\n",
    "\n",
    "\n",
    "\n",
    "for i in range(1, farm_population + 1):\n",
    "    for j in range(1, plot_per_farm + 1):\n",
    "        for _ in range(1, box_per_plot + 1):\n",
    "            box_id.append(i * 10000 + j)\n",
    "\n",
    "print(len(box_id))\n",
    "box_id[-4]\n",
    "\n"
   ]
  },
  {
   "cell_type": "code",
   "execution_count": 17,
   "metadata": {},
   "outputs": [
    {
     "name": "stdout",
     "output_type": "stream",
     "text": [
      "8\n"
     ]
    }
   ],
   "source": [
    "n=93248683\n",
    "\n",
    "print(digits)"
   ]
  },
  {
   "cell_type": "code",
   "execution_count": 27,
   "metadata": {},
   "outputs": [
    {
     "data": {
      "image/png": "[encoded data removed]",
      "text/plain": [
       "<Figure size 640x480 with 1 Axes>"
      ]
     },
     "metadata": {},
     "output_type": "display_data"
    }
   ],
   "source": [
    "import matplotlib.pyplot as plt\n",
    "\n",
    "treatments = [\"No regulation\", \"Reg A\", \"Reg B\", \"Reg C\", \"Reg D\"]\n",
    "costs = [0, 100000, 500000, 1000000, 1500000]\n",
    "effectiveness = [0, 100, 200, 300, 500]\n",
    "\n",
    "# Calculate the ICERs\n",
    "ICERs = []\n",
    "for i in range(len(treatments)-1):\n",
    "    ICER = (costs[i+1] - costs[i]) / (effectiveness[i+1] - effectiveness[i])\n",
    "    ICERs.append(ICER)\n",
    "\n",
    "# Plot the cost-effectiveness frontier\n",
    "plt.plot(effectiveness, costs, 'bo-')\n",
    "frontier_costs = [0,100000, 1500000]\n",
    "frontier_effectiveness = [0,100, 500]\n",
    "\n",
    "plt.plot(frontier_effectiveness, frontier_costs, 'r--')\n",
    "\n",
    "# Add labels for the treatments\n",
    "for i in range(len(treatments)):\n",
    "    plt.annotate(treatments[i], xy=(effectiveness[i], costs[i]), xytext=(10, -10), textcoords='offset points')\n",
    "\n",
    "# Add a label for the cost-effectiveness frontier\n",
    "plt.annotate(\"Cost-effectiveness frontier\", xy=(250, 500000), xytext=(0, -20), textcoords='offset points', ha='center')\n",
    "\n",
    "# Add axes labels and title\n",
    "plt.xlabel(\"Effectiveness (QALYs)\")\n",
    "plt.ylabel(\"Cost (dollars)\")\n",
    "plt.title(\"Cost-effectiveness analysis\")\n",
    "\n",
    "# Show the plot\n",
    "plt.show()\n"
   ]
  },
  {
   "cell_type": "code",
   "execution_count": 59,
   "metadata": {},
   "outputs": [
    {
     "ename": "TypingError",
     "evalue": "Failed in nopython mode pipeline (step: nopython frontend)\nUse of unsupported NumPy function 'numpy.isin' or unsupported use of the function.\n\nFile \"../../../../../../../../../var/folders/px/sq9g__l17z14vth2k8p521gw0000gn/T/ipykernel_14562/2733516424.py\", line 30:\n<source missing, REPL/exec in use?>\n\nDuring: typing of get attribute at /var/folders/px/sq9g__l17z14vth2k8p521gw0000gn/T/ipykernel_14562/2733516424.py (30)\n\nFile \"../../../../../../../../../var/folders/px/sq9g__l17z14vth2k8p521gw0000gn/T/ipykernel_14562/2733516424.py\", line 30:\n<source missing, REPL/exec in use?>\n",
     "output_type": "error",
     "traceback": [
      "\u001b[0;31m---------------------------------------------------------------------------\u001b[0m",
      "\u001b[0;31mTypingError\u001b[0m                               Traceback (most recent call last)",
      "\u001b[1;32m/Users/kushalkumar/Library/CloudStorage/Box-Box/Cornell_Spring_2023/RAM/Food Safety Project/food_safety_abm/model.ipynb Cell 13\u001b[0m in \u001b[0;36m7\n\u001b[1;32m     <a href='vscode-notebook-cell:/Users/kushalkumar/Library/CloudStorage/Box-Box/Cornell_Spring_2023/RAM/Food%20Safety%20Project/food_safety_abm/model.ipynb#X11sZmlsZQ%3D%3D?line=71'>72</a>\u001b[0m     box_ids_C, contamination_mask, dropped_boxes_C \u001b[39m=\u001b[39m run_stage(box_ids_R, contamination_mask, c_test_rate)\n\u001b[1;32m     <a href='vscode-notebook-cell:/Users/kushalkumar/Library/CloudStorage/Box-Box/Cornell_Spring_2023/RAM/Food%20Safety%20Project/food_safety_abm/model.ipynb#X11sZmlsZQ%3D%3D?line=73'>74</a>\u001b[0m     \u001b[39mreturn\u001b[39;00m box_ids,box_ids_C, dropped_boxes_F, dropped_boxes_P, dropped_boxes_D, dropped_boxes_R, dropped_boxes_C\n\u001b[0;32m---> <a href='vscode-notebook-cell:/Users/kushalkumar/Library/CloudStorage/Box-Box/Cornell_Spring_2023/RAM/Food%20Safety%20Project/food_safety_abm/model.ipynb#X11sZmlsZQ%3D%3D?line=75'>76</a>\u001b[0m box_ids,box_ids_C, dropped_boxes_F, dropped_boxes_P, dropped_boxes_D, dropped_boxes_R, dropped_boxes_C \u001b[39m=\u001b[39m run_simulation(\u001b[39m100\u001b[39m, \u001b[39m50\u001b[39m, \u001b[39m50\u001b[39m, \u001b[39m0.5\u001b[39m, \u001b[39m0.1\u001b[39m, \u001b[39m0.2\u001b[39m, \u001b[39m0.3\u001b[39m, \u001b[39m0.4\u001b[39m, \u001b[39m0.5\u001b[39m)\n",
      "\u001b[1;32m/Users/kushalkumar/Library/CloudStorage/Box-Box/Cornell_Spring_2023/RAM/Food Safety Project/food_safety_abm/model.ipynb Cell 13\u001b[0m in \u001b[0;36m6\n\u001b[1;32m     <a href='vscode-notebook-cell:/Users/kushalkumar/Library/CloudStorage/Box-Box/Cornell_Spring_2023/RAM/Food%20Safety%20Project/food_safety_abm/model.ipynb#X11sZmlsZQ%3D%3D?line=56'>57</a>\u001b[0m dropped_boxes_C \u001b[39m=\u001b[39m \u001b[39mset\u001b[39m()\n\u001b[1;32m     <a href='vscode-notebook-cell:/Users/kushalkumar/Library/CloudStorage/Box-Box/Cornell_Spring_2023/RAM/Food%20Safety%20Project/food_safety_abm/model.ipynb#X11sZmlsZQ%3D%3D?line=58'>59</a>\u001b[0m \u001b[39m# Run F stage of testing\u001b[39;00m\n\u001b[0;32m---> <a href='vscode-notebook-cell:/Users/kushalkumar/Library/CloudStorage/Box-Box/Cornell_Spring_2023/RAM/Food%20Safety%20Project/food_safety_abm/model.ipynb#X11sZmlsZQ%3D%3D?line=59'>60</a>\u001b[0m box_ids_F, contamination_mask, dropped_boxes_F \u001b[39m=\u001b[39m run_stage( box_ids, contamination_mask, f_test_rate)\n\u001b[1;32m     <a href='vscode-notebook-cell:/Users/kushalkumar/Library/CloudStorage/Box-Box/Cornell_Spring_2023/RAM/Food%20Safety%20Project/food_safety_abm/model.ipynb#X11sZmlsZQ%3D%3D?line=61'>62</a>\u001b[0m \u001b[39m# Run P stage of testing\u001b[39;00m\n\u001b[1;32m     <a href='vscode-notebook-cell:/Users/kushalkumar/Library/CloudStorage/Box-Box/Cornell_Spring_2023/RAM/Food%20Safety%20Project/food_safety_abm/model.ipynb#X11sZmlsZQ%3D%3D?line=62'>63</a>\u001b[0m box_ids_P, contamination_mask, dropped_boxes_P \u001b[39m=\u001b[39m run_stage(box_ids_F, contamination_mask, p_test_rate)\n",
      "File \u001b[0;32m/opt/homebrew/lib/python3.10/site-packages/numba/core/dispatcher.py:468\u001b[0m, in \u001b[0;36m_DispatcherBase._compile_for_args\u001b[0;34m(self, *args, **kws)\u001b[0m\n\u001b[1;32m    464\u001b[0m         msg \u001b[39m=\u001b[39m (\u001b[39mf\u001b[39m\u001b[39m\"\u001b[39m\u001b[39m{\u001b[39;00m\u001b[39mstr\u001b[39m(e)\u001b[39m.\u001b[39mrstrip()\u001b[39m}\u001b[39;00m\u001b[39m \u001b[39m\u001b[39m\\n\u001b[39;00m\u001b[39m\\n\u001b[39;00m\u001b[39mThis error may have been caused \u001b[39m\u001b[39m\"\u001b[39m\n\u001b[1;32m    465\u001b[0m                \u001b[39mf\u001b[39m\u001b[39m\"\u001b[39m\u001b[39mby the following argument(s):\u001b[39m\u001b[39m\\n\u001b[39;00m\u001b[39m{\u001b[39;00margs_str\u001b[39m}\u001b[39;00m\u001b[39m\\n\u001b[39;00m\u001b[39m\"\u001b[39m)\n\u001b[1;32m    466\u001b[0m         e\u001b[39m.\u001b[39mpatch_message(msg)\n\u001b[0;32m--> 468\u001b[0m     error_rewrite(e, \u001b[39m'\u001b[39;49m\u001b[39mtyping\u001b[39;49m\u001b[39m'\u001b[39;49m)\n\u001b[1;32m    469\u001b[0m \u001b[39mexcept\u001b[39;00m errors\u001b[39m.\u001b[39mUnsupportedError \u001b[39mas\u001b[39;00m e:\n\u001b[1;32m    470\u001b[0m     \u001b[39m# Something unsupported is present in the user code, add help info\u001b[39;00m\n\u001b[1;32m    471\u001b[0m     error_rewrite(e, \u001b[39m'\u001b[39m\u001b[39munsupported_error\u001b[39m\u001b[39m'\u001b[39m)\n",
      "File \u001b[0;32m/opt/homebrew/lib/python3.10/site-packages/numba/core/dispatcher.py:409\u001b[0m, in \u001b[0;36m_DispatcherBase._compile_for_args.<locals>.error_rewrite\u001b[0;34m(e, issue_type)\u001b[0m\n\u001b[1;32m    407\u001b[0m     \u001b[39mraise\u001b[39;00m e\n\u001b[1;32m    408\u001b[0m \u001b[39melse\u001b[39;00m:\n\u001b[0;32m--> 409\u001b[0m     \u001b[39mraise\u001b[39;00m e\u001b[39m.\u001b[39mwith_traceback(\u001b[39mNone\u001b[39;00m)\n",
      "\u001b[0;31mTypingError\u001b[0m: Failed in nopython mode pipeline (step: nopython frontend)\nUse of unsupported NumPy function 'numpy.isin' or unsupported use of the function.\n\nFile \"../../../../../../../../../var/folders/px/sq9g__l17z14vth2k8p521gw0000gn/T/ipykernel_14562/2733516424.py\", line 30:\n<source missing, REPL/exec in use?>\n\nDuring: typing of get attribute at /var/folders/px/sq9g__l17z14vth2k8p521gw0000gn/T/ipykernel_14562/2733516424.py (30)\n\nFile \"../../../../../../../../../var/folders/px/sq9g__l17z14vth2k8p521gw0000gn/T/ipykernel_14562/2733516424.py\", line 30:\n<source missing, REPL/exec in use?>\n"
     ]
    }
   ],
   "source": [
    "import numpy as np\n",
    "from numba import njit, types as T\n",
    "\n",
    "def generate_box_id(farm_idx, plot_idx, box_idx):\n",
    "    farm_str = str(farm_idx).zfill(2)\n",
    "    plot_str = str(plot_idx).zfill(3)\n",
    "    box_str = str(box_idx).zfill(2)\n",
    "    return \"F\" + farm_str + \"P\" + plot_str + \"B\" + box_str\n",
    "@njit\n",
    "def generate_contamination_mask(total_boxes, contamination_rate):\n",
    "    contaminated_boxes = int(total_boxes * contamination_rate)\n",
    "    mask = np.zeros(total_boxes, dtype=np.bool_)\n",
    "    mask[:contaminated_boxes] = True\n",
    "    np.random.shuffle(mask)\n",
    "    return mask\n",
    "@njit\n",
    "#def run_stage(box_ids: T.List, contamination_mask: T.Array, test_rate: float) -> T.Tuple:\n",
    "def run_stage(box_ids, contamination_mask, test_rate):\n",
    "    #tested_boxes = np.random.choice(box_ids.shape[0], int(box_ids.shape[0] * test_rate), replace=False)\n",
    "    tested_boxes_mask = np.zeros(box_ids.shape[0], dtype=np.bool_)\n",
    "    tested_boxes_mask[np.random.choice(box_ids.shape[0], int(box_ids.shape[0] * test_rate), replace=False)] = True\n",
    "    #print(tested_boxes_mask.shape, contamination_mask.shape)\n",
    "    tested_contaminated_boxes = box_ids[contamination_mask*tested_boxes_mask]\n",
    "    #[np.isin(box_ids[contamination_mask], tested_boxes)]\n",
    "    #print(tested_contaminated_boxes)\n",
    "    if tested_contaminated_boxes.size > 0:\n",
    "        #dropped_boxes = set([box_id for box_id in tested_contaminated_boxes])\n",
    "        #print(box_ids)\n",
    "        #print(tested_contaminated_boxes)\n",
    "        mask = np.isin(box_ids, tested_contaminated_boxes)\n",
    "        #print(mask)\n",
    "        box_ids_n = box_ids[~mask]\n",
    "        contamination_mask = contamination_mask[~mask]\n",
    "    else:\n",
    "        box_ids_n = box_ids\n",
    "        #remaining_boxes = box_ids[~np.isin(box_ids, tested_contaminated_boxes)]\n",
    "    remaining_boxes = box_ids[~np.isin(box_ids, tested_contaminated_boxes)]\n",
    "    #print(box_ids.shape, contamination_mask.shape, remaining_boxes.shape)\n",
    "    #print(box_ids_n.shape[0],len(dropped_boxes), contamination_mask.shape[0])\n",
    "    #print(box_ids_n)\n",
    "    return box_ids_n, contamination_mask, tested_contaminated_boxes \n",
    "\n",
    "\n",
    "def run_simulation(farm_population, plot_per_farm, box_per_plot, contamination_rate, f_test_rate, p_test_rate,\n",
    "                   d_test_rate, r_test_rate, c_test_rate):\n",
    "    total_boxes = farm_population * plot_per_farm * box_per_plot\n",
    "    box_ids = np.array([generate_box_id(farm_idx, plot_idx, box_idx)\n",
    "                        for farm_idx in range(farm_population)\n",
    "                        for plot_idx in range(plot_per_farm)\n",
    "                        for box_idx in range(box_per_plot)])\n",
    "    contamination_mask = generate_contamination_mask(total_boxes, contamination_rate)\n",
    "    #print(contamination_mask)\n",
    "    dropped_boxes_F = set()\n",
    "    dropped_boxes_P = set()\n",
    "    dropped_boxes_D = set()\n",
    "    dropped_boxes_R = set()\n",
    "    dropped_boxes_C = set()\n",
    "\n",
    "    # Run F stage of testing\n",
    "    box_ids_F, contamination_mask, dropped_boxes_F = run_stage( box_ids, contamination_mask, f_test_rate)\n",
    "\n",
    "    # Run P stage of testing\n",
    "    box_ids_P, contamination_mask, dropped_boxes_P = run_stage(box_ids_F, contamination_mask, p_test_rate)\n",
    "\n",
    "    # Run D stage of testing\n",
    "    box_ids_D, contamination_mask, dropped_boxes_D = run_stage(box_ids_P, contamination_mask, d_test_rate)\n",
    "\n",
    "    # Run R stage of testing\n",
    "    box_ids_R, contamination_mask, dropped_boxes_R = run_stage(box_ids_D, contamination_mask, r_test_rate)\n",
    "\n",
    "    # Run C stage of testing\n",
    "    box_ids_C, contamination_mask, dropped_boxes_C = run_stage(box_ids_R, contamination_mask, c_test_rate)\n",
    "\n",
    "    return box_ids,box_ids_C, dropped_boxes_F, dropped_boxes_P, dropped_boxes_D, dropped_boxes_R, dropped_boxes_C\n",
    "\n",
    "box_ids,box_ids_C, dropped_boxes_F, dropped_boxes_P, dropped_boxes_D, dropped_boxes_R, dropped_boxes_C = run_simulation(100, 50, 50, 0.5, 0.1, 0.2, 0.3, 0.4, 0.5)\n"
   ]
  },
  {
   "cell_type": "code",
   "execution_count": null,
   "metadata": {},
   "outputs": [],
   "source": []
  }
 ],
 "metadata": {
  "kernelspec": {
   "display_name": "Python 3",
   "language": "python",
   "name": "python3"
  },
  "language_info": {
   "codemirror_mode": {
    "name": "ipython",
    "version": 3
   },
   "file_extension": ".py",
   "mimetype": "text/x-python",
   "name": "python",
   "nbconvert_exporter": "python",
   "pygments_lexer": "ipython3",
   "version": "3.10.8"
  },
  "orig_nbformat": 4
 },
 "nbformat": 4,
 "nbformat_minor": 2
}
