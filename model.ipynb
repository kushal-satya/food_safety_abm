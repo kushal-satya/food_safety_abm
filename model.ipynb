{
 "cells": [
  {
   "cell_type": "code",
   "execution_count": null,
   "metadata": {},
   "outputs": [],
   "source": [
    "# Import required libraries\n",
    "import numpy as np\n",
    "from tqdm import tqdm\n",
    "import concurrent.futures\n"
   ]
  },
  {
   "cell_type": "code",
   "execution_count": 64,
   "metadata": {},
   "outputs": [],
   "source": [
    "# Set parameters for simulation\n",
    "farm_population = 1\n",
    "packer_population = 1\n",
    "distributor_population = 1\n",
    "retailer_population = 1\n",
    "customer_population = 5000\n",
    "\n",
    "plot_per_farm = 1856\n",
    "box_per_packer = 31562\n",
    "box_per_distributor = 31562\n",
    "box_per_retailer = 31562\n",
    "\n",
    "box_per_plot = 17\n",
    "contamination_rate = 0.06\n",
    "\n",
    "d_test_rate = 0.03\n",
    "r_test_rate = 0.04\n",
    "c_test_rate = 0.05\n",
    "\n",
    "box_ids_l=[]\n",
    "box_ids_C_l=[]\n",
    "dropped_boxes_F_l=[]\n",
    "dropped_boxes_P_l=[]\n",
    "dropped_boxes_D_l=[]\n",
    "dropped_boxes_R_l=[]\n",
    "dropped_boxes_C_l=[]\n",
    "detection_percent_l=[]\n",
    "\n",
    "iterations = 10"
   ]
  },
  {
   "cell_type": "code",
   "execution_count": 4,
   "metadata": {},
   "outputs": [],
   "source": [
    "# Define functions \n",
    "\n",
    "import numpy as np\n",
    "from tqdm import tqdm\n",
    "import concurrent.futures\n",
    "import numba as nb\n",
    "\n",
    "# generate box id\n",
    "#@nb.njit(nopython=True)\n",
    "def generate_box_id(farm_idx, plot_idx, box_idx):\n",
    "    return farm_idx * 10000000000 + plot_idx * 100000 + box_idx * 10\n",
    "\n",
    "# generate contaminated box mask\n",
    "#@nb.njit(parallel=True)\n",
    "def generate_contamination_mask(total_boxes, contamination_rate):\n",
    "    contaminated_boxes = int(total_boxes * contamination_rate)\n",
    "    mask = np.zeros(total_boxes, dtype=np.bool_)\n",
    "    mask[:contaminated_boxes] = True\n",
    "    np.random.shuffle(mask)\n",
    "    return mask\n",
    "\n",
    "def generate_box_ids_numpy(farm_population, plot_per_farm, box_per_plot):\n",
    "    farm_range = np.arange(1, farm_population + 1)\n",
    "    plot_range = np.arange(1, plot_per_farm + 1)\n",
    "    box_range = np.arange(1, box_per_plot + 1)\n",
    "    farm_grid, plot_grid, box_grid = np.meshgrid(farm_range, plot_range, box_range)\n",
    "    box_ids = (farm_grid * 10000000000 + plot_grid * 100000 + box_grid * 10).ravel()\n",
    "    return box_ids\n",
    "\n",
    "# define testing at each stage\n",
    "def run_stage(box_ids, contamination_mask, test_rate):\n",
    "    tested_boxes_mask = np.random.rand(box_ids.shape[0]) < test_rate\n",
    "    tested_contaminated_boxes = box_ids[np.logical_and(contamination_mask, tested_boxes_mask)]\n",
    "    if tested_contaminated_boxes.size > 0:\n",
    "        mask = np.isin(box_ids, tested_contaminated_boxes)\n",
    "        box_ids_n = box_ids[~mask]\n",
    "        contamination_mask = contamination_mask[~mask]\n",
    "        dropped_boxes = set(tested_contaminated_boxes)\n",
    "    else:\n",
    "        box_ids_n = box_ids\n",
    "        dropped_boxes = set()\n",
    "    remaining_boxes = box_ids_n[~np.isin(box_ids_n, tested_contaminated_boxes)]\n",
    "    return remaining_boxes, contamination_mask, dropped_boxes\n",
    "'''def run_stage(box_ids, contamination_mask, test_rate):\n",
    "    tested_boxes_mask = np.random.rand(box_ids.shape[0]) < test_rate\n",
    "    tested_contaminated_boxes = box_ids[np.logical_and(contamination_mask, tested_boxes_mask)]\n",
    "    if tested_contaminated_boxes.size > 0:\n",
    "        farm_idx = tested_contaminated_boxes[0] // 1000000\n",
    "        plot_idx = (tested_contaminated_boxes[0] // 1000) % 1000\n",
    "        mask = np.logical_and(box_ids // 1000000 == farm_idx, box_ids // 1000 % 1000 == plot_idx)\n",
    "        box_ids_n = box_ids[~mask]\n",
    "        contamination_mask = contamination_mask[~mask]\n",
    "        dropped_boxes = set(box_ids[mask])\n",
    "    else:\n",
    "        box_ids_n = box_ids\n",
    "        dropped_boxes = set()\n",
    "    remaining_boxes = box_ids_n[~isin(box_ids_n, tested_contaminated_boxes)]\n",
    "    return remaining_boxes, contamination_mask, dropped_boxes'''\n",
    "\n",
    "#\n",
    "#@nb.njit(parallel=True) \n",
    "def isin(a, b):\n",
    "    out=np.empty(a.shape[0], dtype=nb.boolean)\n",
    "    b = set(b)\n",
    "    for i in nb.prange(a.shape[0]):\n",
    "        if a[i] in b:\n",
    "            out[i]=True\n",
    "        else:\n",
    "            out[i]=False\n",
    "    return out\n",
    "\n",
    "# Run simulation\n",
    "def run_simulation(farm_population, plot_per_farm, box_per_plot, contamination_rate, f_test_rate, p_test_rate,\n",
    "                   d_test_rate, r_test_rate, c_test_rate):\n",
    "    total_boxes = farm_population * plot_per_farm * box_per_plot\n",
    "    box_ids = generate_box_ids_numpy(farm_population, plot_per_farm, box_per_plot)    \n",
    "    contamination_mask = generate_contamination_mask(total_boxes, contamination_rate)\n",
    "    box_ids_F, contamination_mask, dropped_boxes_F = run_stage(box_ids, contamination_mask, f_test_rate)\n",
    "    box_ids_P, contamination_mask, dropped_boxes_P = run_stage(box_ids_F, contamination_mask, p_test_rate)\n",
    "    box_ids_D, contamination_mask, dropped_boxes_D = run_stage(box_ids_P, contamination_mask, d_test_rate)\n",
    "    box_ids_R, contamination_mask, dropped_boxes_R = run_stage(box_ids_D, contamination_mask, r_test_rate)\n",
    "    box_ids_C, contamination_mask, dropped_boxes_C = run_stage(box_ids_R, contamination_mask, c_test_rate)\n",
    "    return box_ids, box_ids_C, dropped_boxes_F, dropped_boxes_P, dropped_boxes_D, dropped_boxes_R, dropped_boxes_C\n"
   ]
  },
  {
   "cell_type": "code",
   "execution_count": 5,
   "metadata": {},
   "outputs": [
    {
     "name": "stdout",
     "output_type": "stream",
     "text": [
      "5000000\n",
      "4969236\n",
      "2486\n",
      "9936\n",
      "11668\n",
      "2238\n",
      "4436\n",
      "5000000\n"
     ]
    }
   ],
   "source": [
    "box_ids,box_ids_C, dropped_boxes_F, dropped_boxes_P, dropped_boxes_D, dropped_boxes_R, dropped_boxes_C = run_simulation(100, 2500, 20, 0.05, 0.01, 0.04, 0.05, 0.01, 0.02)\n",
    "print(len(box_ids))\n",
    "print(len(box_ids_C))\n",
    "print(len(dropped_boxes_F))\n",
    "print(len(dropped_boxes_P))\n",
    "print(len(dropped_boxes_D))\n",
    "print(len(dropped_boxes_R))\n",
    "print(len(dropped_boxes_C))\n",
    "\n",
    "print(sum([len(dropped_boxes_F), len(dropped_boxes_P), len(dropped_boxes_D), len(dropped_boxes_R), len(dropped_boxes_C), box_ids_C.shape[0]]))"
   ]
  },
  {
   "cell_type": "code",
   "execution_count": 7,
   "metadata": {},
   "outputs": [
    {
     "data": {
      "text/plain": [
       "array([11, 12, 13])"
      ]
     },
     "execution_count": 7,
     "metadata": {},
     "output_type": "execute_result"
    }
   ],
   "source": [
    "#list(dropped_boxes_F)[0:10]\n",
    "np.unique(box_ids).shape[0]\n",
    "import numpy as np\n",
    "\n",
    "arr = np.array([10, 100, 1000, 10000])\n",
    "lengths = np.array([len(str(x)) for x in box_ids])\n",
    "np.unique(lengths)\n",
    "\n",
    "np.unique(box_ids).shape[0]"
   ]
  },
  {
   "cell_type": "code",
   "execution_count": 8,
   "metadata": {},
   "outputs": [
    {
     "data": {
      "text/plain": [
       "5000000"
      ]
     },
     "execution_count": 8,
     "metadata": {},
     "output_type": "execute_result"
    }
   ],
   "source": [
    "np.unique(box_ids).shape[0]"
   ]
  },
  {
   "cell_type": "code",
   "execution_count": 110,
   "metadata": {},
   "outputs": [],
   "source": [
    "for x in box_ids:\n",
    "    leng=len(str(x)) \n",
    "    if leng<5:\n",
    "        print(x)"
   ]
  },
  {
   "cell_type": "code",
   "execution_count": 86,
   "metadata": {},
   "outputs": [
    {
     "ename": "ValueError",
     "evalue": "operands could not be broadcast together with shapes (9999980,) (9994999,) ",
     "output_type": "error",
     "traceback": [
      "\u001b[0;31m---------------------------------------------------------------------------\u001b[0m",
      "\u001b[0;31mValueError\u001b[0m                                Traceback (most recent call last)",
      "\u001b[1;32m/Users/kushalkumar/Library/CloudStorage/Box-Box/Cornell_Spring_2023/RAM/Food Safety Project/food_safety_abm/model.ipynb Cell 5\u001b[0m in \u001b[0;36m1\n\u001b[0;32m----> <a href='vscode-notebook-cell:/Users/kushalkumar/Library/CloudStorage/Box-Box/Cornell_Spring_2023/RAM/Food%20Safety%20Project/food_safety_abm/model.ipynb#X40sZmlsZQ%3D%3D?line=0'>1</a>\u001b[0m box_ids,box_ids_C, dropped_boxes_F, dropped_boxes_P, dropped_boxes_D, dropped_boxes_R, dropped_boxes_C \u001b[39m=\u001b[39m run_simulation(\u001b[39m1000\u001b[39m, \u001b[39m500\u001b[39m, \u001b[39m20\u001b[39m, \u001b[39m0.05\u001b[39m, \u001b[39m0.01\u001b[39m, \u001b[39m0.04\u001b[39m, \u001b[39m0.05\u001b[39m, \u001b[39m0.01\u001b[39m, \u001b[39m0.02\u001b[39m)\n\u001b[1;32m      <a href='vscode-notebook-cell:/Users/kushalkumar/Library/CloudStorage/Box-Box/Cornell_Spring_2023/RAM/Food%20Safety%20Project/food_safety_abm/model.ipynb#X40sZmlsZQ%3D%3D?line=1'>2</a>\u001b[0m \u001b[39mprint\u001b[39m(\u001b[39mlen\u001b[39m(box_ids))\n\u001b[1;32m      <a href='vscode-notebook-cell:/Users/kushalkumar/Library/CloudStorage/Box-Box/Cornell_Spring_2023/RAM/Food%20Safety%20Project/food_safety_abm/model.ipynb#X40sZmlsZQ%3D%3D?line=2'>3</a>\u001b[0m \u001b[39mprint\u001b[39m(\u001b[39mlen\u001b[39m(box_ids_C))\n",
      "\u001b[1;32m/Users/kushalkumar/Library/CloudStorage/Box-Box/Cornell_Spring_2023/RAM/Food Safety Project/food_safety_abm/model.ipynb Cell 5\u001b[0m in \u001b[0;36m7\n\u001b[1;32m     <a href='vscode-notebook-cell:/Users/kushalkumar/Library/CloudStorage/Box-Box/Cornell_Spring_2023/RAM/Food%20Safety%20Project/food_safety_abm/model.ipynb#X40sZmlsZQ%3D%3D?line=71'>72</a>\u001b[0m contamination_mask \u001b[39m=\u001b[39m generate_contamination_mask(total_boxes, contamination_rate)\n\u001b[1;32m     <a href='vscode-notebook-cell:/Users/kushalkumar/Library/CloudStorage/Box-Box/Cornell_Spring_2023/RAM/Food%20Safety%20Project/food_safety_abm/model.ipynb#X40sZmlsZQ%3D%3D?line=73'>74</a>\u001b[0m box_ids_F, contamination_mask, dropped_boxes_F \u001b[39m=\u001b[39m run_stage(box_ids, contamination_mask, f_test_rate)\n\u001b[0;32m---> <a href='vscode-notebook-cell:/Users/kushalkumar/Library/CloudStorage/Box-Box/Cornell_Spring_2023/RAM/Food%20Safety%20Project/food_safety_abm/model.ipynb#X40sZmlsZQ%3D%3D?line=74'>75</a>\u001b[0m box_ids_P, contamination_mask, dropped_boxes_P \u001b[39m=\u001b[39m run_stage(box_ids_F, contamination_mask, p_test_rate)\n\u001b[1;32m     <a href='vscode-notebook-cell:/Users/kushalkumar/Library/CloudStorage/Box-Box/Cornell_Spring_2023/RAM/Food%20Safety%20Project/food_safety_abm/model.ipynb#X40sZmlsZQ%3D%3D?line=75'>76</a>\u001b[0m box_ids_D, contamination_mask, dropped_boxes_D \u001b[39m=\u001b[39m run_stage(box_ids_P, contamination_mask, d_test_rate)\n\u001b[1;32m     <a href='vscode-notebook-cell:/Users/kushalkumar/Library/CloudStorage/Box-Box/Cornell_Spring_2023/RAM/Food%20Safety%20Project/food_safety_abm/model.ipynb#X40sZmlsZQ%3D%3D?line=76'>77</a>\u001b[0m box_ids_R, contamination_mask, dropped_boxes_R \u001b[39m=\u001b[39m run_stage(box_ids_D, contamination_mask, r_test_rate)\n",
      "\u001b[1;32m/Users/kushalkumar/Library/CloudStorage/Box-Box/Cornell_Spring_2023/RAM/Food Safety Project/food_safety_abm/model.ipynb Cell 5\u001b[0m in \u001b[0;36m3\n\u001b[1;32m     <a href='vscode-notebook-cell:/Users/kushalkumar/Library/CloudStorage/Box-Box/Cornell_Spring_2023/RAM/Food%20Safety%20Project/food_safety_abm/model.ipynb#X40sZmlsZQ%3D%3D?line=36'>37</a>\u001b[0m \u001b[39mdef\u001b[39;00m \u001b[39mrun_stage\u001b[39m(box_ids, contamination_mask, test_rate):\n\u001b[1;32m     <a href='vscode-notebook-cell:/Users/kushalkumar/Library/CloudStorage/Box-Box/Cornell_Spring_2023/RAM/Food%20Safety%20Project/food_safety_abm/model.ipynb#X40sZmlsZQ%3D%3D?line=37'>38</a>\u001b[0m     tested_boxes_mask \u001b[39m=\u001b[39m np\u001b[39m.\u001b[39mrandom\u001b[39m.\u001b[39mrand(box_ids\u001b[39m.\u001b[39mshape[\u001b[39m0\u001b[39m]) \u001b[39m<\u001b[39m test_rate\n\u001b[0;32m---> <a href='vscode-notebook-cell:/Users/kushalkumar/Library/CloudStorage/Box-Box/Cornell_Spring_2023/RAM/Food%20Safety%20Project/food_safety_abm/model.ipynb#X40sZmlsZQ%3D%3D?line=38'>39</a>\u001b[0m     tested_contaminated_boxes \u001b[39m=\u001b[39m box_ids[np\u001b[39m.\u001b[39;49mlogical_and(contamination_mask, tested_boxes_mask)]\n\u001b[1;32m     <a href='vscode-notebook-cell:/Users/kushalkumar/Library/CloudStorage/Box-Box/Cornell_Spring_2023/RAM/Food%20Safety%20Project/food_safety_abm/model.ipynb#X40sZmlsZQ%3D%3D?line=39'>40</a>\u001b[0m     \u001b[39mif\u001b[39;00m tested_contaminated_boxes\u001b[39m.\u001b[39msize \u001b[39m>\u001b[39m \u001b[39m0\u001b[39m:\n\u001b[1;32m     <a href='vscode-notebook-cell:/Users/kushalkumar/Library/CloudStorage/Box-Box/Cornell_Spring_2023/RAM/Food%20Safety%20Project/food_safety_abm/model.ipynb#X40sZmlsZQ%3D%3D?line=40'>41</a>\u001b[0m         farm_idx \u001b[39m=\u001b[39m tested_contaminated_boxes[\u001b[39m0\u001b[39m] \u001b[39m/\u001b[39m\u001b[39m/\u001b[39m \u001b[39m1000000\u001b[39m\n",
      "\u001b[0;31mValueError\u001b[0m: operands could not be broadcast together with shapes (9999980,) (9994999,) "
     ]
    }
   ],
   "source": [
    "box_ids,box_ids_C, dropped_boxes_F, dropped_boxes_P, dropped_boxes_D, dropped_boxes_R, dropped_boxes_C = run_simulation(1000, 500, 20, 0.05, 0.01, 0.04, 0.05, 0.01, 0.02)\n",
    "print(len(box_ids))\n",
    "print(len(box_ids_C))\n",
    "print(len(dropped_boxes_F))\n",
    "print(len(dropped_boxes_P))\n",
    "print(len(dropped_boxes_D))\n",
    "print(len(dropped_boxes_R))\n",
    "print(len(dropped_boxes_C))\n",
    "\n",
    "print(sum([len(dropped_boxes_F), len(dropped_boxes_P), len(dropped_boxes_D), len(dropped_boxes_R), len(dropped_boxes_C), box_ids_C.shape[0]]))"
   ]
  },
  {
   "cell_type": "code",
   "execution_count": 75,
   "metadata": {},
   "outputs": [
    {
     "data": {
      "text/plain": [
       "array([ True,  True,  True, False, False])"
      ]
     },
     "execution_count": 75,
     "metadata": {},
     "output_type": "execute_result"
    }
   ],
   "source": [
    "isin(np.array([1,2,3,4,5]), np.array([1,2,3]))"
   ]
  },
  {
   "cell_type": "code",
   "execution_count": 84,
   "metadata": {},
   "outputs": [
    {
     "name": "stdout",
     "output_type": "stream",
     "text": [
      "CPU times: user 785 ms, sys: 15.9 ms, total: 801 ms\n",
      "Wall time: 105 ms\n",
      "CPU times: user 4.09 s, sys: 253 ms, total: 4.34 s\n",
      "Wall time: 4.39 s\n"
     ]
    },
    {
     "data": {
      "text/plain": [
       "array([False, False, False, ..., False, False, False])"
      ]
     },
     "execution_count": 84,
     "metadata": {},
     "output_type": "execute_result"
    }
   ],
   "source": [
    "a = np.random.rand(20000000)\n",
    "b = np.random.rand(50000)\n",
    "\n",
    "%time isin(a,b)\n",
    "\n",
    "%time np.isin(a,b)\n"
   ]
  },
  {
   "cell_type": "code",
   "execution_count": 6,
   "metadata": {},
   "outputs": [
    {
     "name": "stderr",
     "output_type": "stream",
     "text": [
      "100%|██████████| 59/59 [00:00<00:00, 636.90it/s]\n"
     ]
    },
    {
     "data": {
      "image/png": "[encoded data removed]",
      "text/plain": [
       "<Figure size 640x480 with 1 Axes>"
      ]
     },
     "metadata": {},
     "output_type": "display_data"
    }
   ],
   "source": [
    "from tqdm import tqdm\n",
    "import concurrent.futures\n",
    "from matplotlib import pyplot as plt\n",
    "farm_population = 100\n",
    "plot_per_farm = 50\n",
    "box_per_plot = 50\n",
    "contamination_rate = 0.06\n",
    "\n",
    "d_test_rate = 0.03\n",
    "r_test_rate = 0.04\n",
    "c_test_rate = 0.05\n",
    "\n",
    "box_ids_l=[]\n",
    "box_ids_C_l=[]\n",
    "dropped_boxes_F_l=[]\n",
    "dropped_boxes_P_l=[]\n",
    "dropped_boxes_D_l=[]\n",
    "dropped_boxes_R_l=[]\n",
    "dropped_boxes_C_l=[]\n",
    "detection_percent_l=[]\n",
    "\n",
    "def run_simulation_wrapper(args):\n",
    "    f_test_rate, p_test_rate = args\n",
    "    return run_simulation(farm_population, plot_per_farm, box_per_plot, contamination_rate, f_test_rate, p_test_rate, d_test_rate, r_test_rate, c_test_rate)\n",
    "\n",
    "with concurrent.futures.ThreadPoolExecutor() as executor:\n",
    "    results = []\n",
    "    for f_test_rate in tqdm(np.arange(0.01,0.6,0.01)):\n",
    "        for p_test_rate in np.arange(0.01,0.6,0.01):\n",
    "            results.append(executor.submit(run_simulation_wrapper, (f_test_rate, p_test_rate)))\n",
    "\n",
    "    for future in concurrent.futures.as_completed(results):\n",
    "        box_ids,box_ids_C, dropped_boxes_F, dropped_boxes_P, dropped_boxes_D, dropped_boxes_R, dropped_boxes_C = future.result()\n",
    "        box_ids_l.append(len(box_ids))\n",
    "        box_ids_C_l.append(len(box_ids_C))\n",
    "        dropped_boxes_F_l.append(len(dropped_boxes_F))\n",
    "        dropped_boxes_P_l.append(len(dropped_boxes_P))\n",
    "        dropped_boxes_D_l.append(len(dropped_boxes_D))\n",
    "        dropped_boxes_R_l.append(len(dropped_boxes_R))\n",
    "        dropped_boxes_C_l.append(len(dropped_boxes_C))\n",
    "        detection_percent = ((len(box_ids)-len(box_ids_C))/(contamination_rate*len(box_ids)))*100\n",
    "        detection_percent_l.append(detection_percent)\n",
    "\n",
    "plt.plot(detection_percent_l)\n",
    "plt.show()\n"
   ]
  },
  {
   "cell_type": "code",
   "execution_count": 7,
   "metadata": {},
   "outputs": [],
   "source": [
    "# Define functions \n",
    "\n",
    "import numpy as np\n",
    "from tqdm import tqdm\n",
    "import concurrent.futures\n",
    "import numba as nb\n",
    "\n",
    "# generate box id\n",
    "#@nb.njit(nopython=True)\n",
    "def generate_box_id(farm_idx, plot_idx, box_idx):\n",
    "    return farm_idx * 10000000000 + plot_idx * 100000 + box_idx * 10\n",
    "\n",
    "# generate contaminated box mask\n",
    "#@nb.njit(parallel=True)\n",
    "def generate_contamination_mask(total_boxes, contamination_rate):\n",
    "    contaminated_boxes = int(total_boxes * contamination_rate)\n",
    "    mask = np.zeros(total_boxes, dtype=np.bool_)\n",
    "    mask[:contaminated_boxes] = True\n",
    "    np.random.shuffle(mask)\n",
    "    return mask\n",
    "\n",
    "# define testing at each stage\n",
    "def run_stage(box_ids, contamination_mask, test_rate):\n",
    "    tested_boxes_mask = np.random.rand(box_ids.shape[0]) < test_rate\n",
    "    tested_contaminated_boxes = box_ids[np.logical_and(contamination_mask, tested_boxes_mask)]\n",
    "    if tested_contaminated_boxes.size > 0:\n",
    "        mask = np.isin(box_ids, tested_contaminated_boxes)\n",
    "        box_ids_n = box_ids[~mask]\n",
    "        contamination_mask = contamination_mask[~mask]\n",
    "        dropped_boxes = set(tested_contaminated_boxes)\n",
    "    else:\n",
    "        box_ids_n = box_ids\n",
    "        dropped_boxes = set()\n",
    "    remaining_boxes = box_ids_n[~np.isin(box_ids_n, tested_contaminated_boxes)]\n",
    "    return remaining_boxes, contamination_mask, dropped_boxes\n",
    "\n",
    "#@nb.njit(parallel=True) \n",
    "def isin(a, b):\n",
    "    out=np.empty(a.shape[0], dtype=nb.boolean)\n",
    "    b = set(b)\n",
    "    for i in nb.prange(a.shape[0]):\n",
    "        if a[i] in b:\n",
    "            out[i]=True\n",
    "        else:\n",
    "            out[i]=False\n",
    "    return out\n",
    "\n",
    "# Run simulation\n",
    "def run_simulation(farm_population, plot_per_farm, box_per_plot, contamination_rate, f_test_rate, p_test_rate,\n",
    "                   d_test_rate, r_test_rate, c_test_rate):\n",
    "    total_boxes = farm_population * plot_per_farm * box_per_plot\n",
    "    box_ids = np.array([generate_box_id(farm_idx, plot_idx, box_idx)\n",
    "                        for farm_idx in range(1,farm_population+1)\n",
    "                        for plot_idx in range(1,plot_per_farm+1)\n",
    "                        for box_idx in range(1,box_per_plot+1)])\n",
    "    contamination_mask = generate_contamination_mask(total_boxes, contamination_rate)\n",
    "\n",
    "    box_ids_F, contamination_mask, dropped_boxes_F = run_stage(box_ids, contamination_mask, f_test_rate)\n",
    "    box_ids_P, contamination_mask, dropped_boxes_P = run_stage(box_ids_F, contamination_mask, p_test_rate)\n",
    "    box_ids_D, contamination_mask, dropped_boxes_D = run_stage(box_ids_P, contamination_mask, d_test_rate)\n",
    "    box_ids_R, contamination_mask, dropped_boxes_R = run_stage(box_ids_D, contamination_mask, r_test_rate)\n",
    "    box_ids_C, contamination_mask, dropped_boxes_C = run_stage(box_ids_R, contamination_mask, c_test_rate)\n",
    "\n",
    "    return box_ids, box_ids_C, dropped_boxes_F, dropped_boxes_P, dropped_boxes_D, dropped_boxes_R, dropped_boxes_C\n"
   ]
  },
  {
   "cell_type": "code",
   "execution_count": 8,
   "metadata": {},
   "outputs": [
    {
     "name": "stderr",
     "output_type": "stream",
     "text": [
      "100%|██████████| 59/59 [00:00<00:00, 63.81it/s]\n"
     ]
    }
   ],
   "source": [
    "from tqdm import tqdm\n",
    "import concurrent.futures\n",
    "from matplotlib import pyplot as plt\n",
    "farm_population = 100\n",
    "plot_per_farm = 50\n",
    "box_per_plot = 50\n",
    "contamination_rate = 0.06\n",
    "\n",
    "d_test_rate = 0.03\n",
    "r_test_rate = 0.04\n",
    "c_test_rate = 0.05\n",
    "\n",
    "box_ids_l=[]\n",
    "box_ids_C_l=[]\n",
    "dropped_boxes_F_l=[]\n",
    "dropped_boxes_P_l=[]\n",
    "dropped_boxes_D_l=[]\n",
    "dropped_boxes_R_l=[]\n",
    "dropped_boxes_C_l=[]\n",
    "detection_percent_l=[]\n",
    "\n",
    "def run_simulation_wrapper(args):\n",
    "    f_test_rate, p_test_rate = args\n",
    "    return run_simulation(farm_population, plot_per_farm, box_per_plot, contamination_rate, f_test_rate, p_test_rate, d_test_rate, r_test_rate, c_test_rate)\n",
    "\n",
    "with concurrent.futures.ThreadPoolExecutor() as executor:\n",
    "    results = []\n",
    "    for f_test_rate in tqdm(np.arange(0.01,0.6,0.01)):\n",
    "        for p_test_rate in np.arange(0.01,0.6,0.01):\n",
    "            results.append(executor.submit(run_simulation_wrapper, (f_test_rate, p_test_rate)))\n",
    "\n",
    "    for future in concurrent.futures.as_completed(results):\n",
    "        box_ids,box_ids_C, dropped_boxes_F, dropped_boxes_P, dropped_boxes_D, dropped_boxes_R, dropped_boxes_C = future.result()\n",
    "        box_ids_l.append(len(box_ids))\n",
    "        box_ids_C_l.append(len(box_ids_C))\n",
    "        dropped_boxes_F_l.append(len(dropped_boxes_F))\n",
    "        dropped_boxes_P_l.append(len(dropped_boxes_P))\n",
    "        dropped_boxes_D_l.append(len(dropped_boxes_D))\n",
    "        dropped_boxes_R_l.append(len(dropped_boxes_R))\n",
    "        dropped_boxes_C_l.append(len(dropped_boxes_C))\n",
    "        detection_percent = ((len(box_ids)-len(box_ids_C))/(contamination_rate*len(box_ids)))*100\n",
    "        detection_percent_l.append(detection_percent)\n",
    "\n",
    "plt.plot(detection_percent_l)\n",
    "plt.show()\n"
   ]
  },
  {
   "cell_type": "code",
   "execution_count": null,
   "metadata": {},
   "outputs": [],
   "source": []
  }
 ],
 "metadata": {
  "kernelspec": {
   "display_name": "Python 3",
   "language": "python",
   "name": "python3"
  },
  "language_info": {
   "codemirror_mode": {
    "name": "ipython",
    "version": 3
   },
   "file_extension": ".py",
   "mimetype": "text/x-python",
   "name": "python",
   "nbconvert_exporter": "python",
   "pygments_lexer": "ipython3",
   "version": "3.10.8"
  },
  "orig_nbformat": 4
 },
 "nbformat": 4,
 "nbformat_minor": 2
}
