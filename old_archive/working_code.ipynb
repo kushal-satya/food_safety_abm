{
 "cells": [
  {
   "cell_type": "code",
   "execution_count": 4,
   "metadata": {},
   "outputs": [],
   "source": [
    "import numpy as np \n",
    "import pandas as pd\n",
    "import matplotlib.pyplot as plt\n"
   ]
  },
  {
   "cell_type": "code",
   "execution_count": 14,
   "metadata": {},
   "outputs": [
    {
     "data": {
      "text/plain": [
       "0.1014"
      ]
     },
     "execution_count": 14,
     "metadata": {},
     "output_type": "execute_result"
    }
   ],
   "source": [
    "[beta1,beta2,beta3,beta4] = np.around(np.random.uniform(low=0.01, high=0.2, size=(4,)),4)\n",
    "beta4\n"
   ]
  },
  {
   "cell_type": "code",
   "execution_count": 3,
   "metadata": {},
   "outputs": [
    {
     "ename": "IndentationError",
     "evalue": "unindent does not match any outer indentation level (<tokenize>, line 66)",
     "output_type": "error",
     "traceback": [
      "\u001b[0;36m  File \u001b[0;32m<tokenize>:66\u001b[0;36m\u001b[0m\n\u001b[0;31m    for i in range(n_farms):\u001b[0m\n\u001b[0m    ^\u001b[0m\n\u001b[0;31mIndentationError\u001b[0m\u001b[0;31m:\u001b[0m unindent does not match any outer indentation level\n"
     ]
    }
   ],
   "source": [
    "#Food_safety_ABM\n",
    "\n",
    "import numpy as np\n",
    "\n",
    "class Farm:\n",
    "    def __init__(self, id, technology_level, initial_contamination_rate, region_mean_contamination_rate):\n",
    "        self.id = id\n",
    "        self.technology_level = technology_level\n",
    "        self.contamination_rate = initial_contamination_rate\n",
    "        self.region_mean_contamination_rate = region_mean_contamination_rate\n",
    "        self.cost_effort = 0\n",
    "        self.cost_technology = 0\n",
    "        self.penalties = [0, 0, 0, 0, 0]\n",
    "        self.testing_regimes = [0, 0, 0, 0]\n",
    "        \n",
    "    def update_contamination_rate(self, c, k, t):\n",
    "        # calculate new contamination rate based on Eq. (3)\n",
    "        c_j_t = c[self.id][t]\n",
    "        k_j_t = k[self.id][t]\n",
    "        alpha_j_t = np.exp(-c_j_t * k_j_t)\n",
    "        self.contamination_rate = alpha_j_t * self.region_mean_contamination_rate\n",
    "        \n",
    "    def calculate_cost(self, f, beta, P, c_e, c_k):\n",
    "        # calculate total cost function based on Eq. (4)\n",
    "        f1, f2, f3, f4, f5 = f\n",
    "        beta1, beta2, beta3, beta4 = beta\n",
    "        numerator = f1 * beta1 + f2 * (1 - beta1) * beta2 + f3 * (1 - beta1) * (1 - beta2) * beta3 + \\\n",
    "                    f4 * (1 - beta1) * (1 - beta2) * (1 - beta3) * beta4 + f5 * (1 - beta1) * (1 - beta2) * \\\n",
    "                    (1 - beta3) * (1 - beta4) * P\n",
    "        denominator = (c_e + c_k) * (1 - beta1) * (1 - beta2) * (1 - beta3) * (1 - beta4)\n",
    "        self.cost_effort = c_e\n",
    "        self.cost_technology = c_k\n",
    "        self.penalties = [f1, f2, f3, f4, f5]\n",
    "        self.testing_regimes = [beta1, beta2, beta3, beta4]\n",
    "        return numerator / denominator\n",
    "        \n",
    "    def update_risk_control_behavior(self, f, beta, P, c_e, c_k, c, k, t, neighbors):\n",
    "        # update risk control behavior based on Eq. (5) and the behavior of neighboring farms\n",
    "        cost = self.calculate_cost(f, beta, P, c_e, c_k)\n",
    "        for neighbor in neighbors:\n",
    "            cost += neighbor.calculate_cost(f, beta, P, c_e, c_k)\n",
    "        self.cost_effort = c_e\n",
    "        self.cost_technology = c_k\n",
    "        self.penalties = [f1, f2, f3, f4, f5]\n",
    "        self.testing_regimes = [beta1, beta2, beta3, beta4]\n",
    "        self.contamination_rate = self.region_mean_contamination_rate\n",
    "        self.contamination_rate += np.random.normal(loc=0, scale=self.technology_level)\n",
    "        self.contamination_rate += np.random.uniform(low=-1, high=1) * c[self.id][t]\n",
    "        self.contamination_rate += np.sum([np.random.uniform(low=-1, high=1) * neighbor.contamination_rate for neighbor in neighbors])\n",
    "        self.update_contamination_rate(c, k, t)\n",
    "        self.cost = self.calculate_cost(f, beta, P, c_e, c_k)\n",
    "\n",
    "\n",
    "class FarmSimulation:\n",
    "\tdef init(self, n_farms, n_timesteps, technology_levels, initial_contamination_rates, region_mean_contamination_rates):\n",
    "\t\tself.n_farms = n_farms\n",
    "\t\tself.n_timesteps = n_timesteps\n",
    "\t\tself.technology_levels = technology_levels\n",
    "\t\tself.initial_contamination_rates = initial_contamination_rates\n",
    "\t\tself.region_mean_contamination_rates = region_mean_contamination_rates\n",
    "\t\tself.farms = []\n",
    "\t\tself.c = np.random.normal(loc=0, scale=1, size=(n_farms, n_timesteps))\n",
    "\t\tself.k = np.random.normal(loc=0, scale=1, size=(n_farms, n_timesteps))\n",
    "\t\tself.P = 0\n",
    "\t\tfor i in range(n_farms):\n",
    "\t\t\tfarm = Farm(i, technology_levels[i], initial_contamination_rates[i], region_mean_contamination_rates[i])\n",
    "\t\t\tself.farms.append(farm)\n",
    "\tdef run_simulation(self, f, beta, c_e, c_k):\n",
    "     for t in range(self.n_timesteps):\n",
    "         for i in range(self.n_farms):\n",
    "             farm = self.farms[i]\n",
    "             neighbors = self.get_neighbors(i)\n",
    "             farm.update_risk_control_behavior(f, beta, self.P, c_e, c_k, self.c, self.k, t, neighbors)\n",
    "             self.P += 0.01\t  \n",
    "             \n",
    "\tdef get_neighbors(self, farm_id):\n",
    "\t    # get neighboring farms for a given farm\n",
    "\t    # for simplicity, we assume that farms are arranged in a grid and have four neighbors (north, south, east, west)\n",
    "\t    row = farm_id // int(np.sqrt(self.n_farms))\n",
    "\t    col = farm_id % int(np.sqrt(self.n_farms))\n",
    "\t    neighbors = []\n",
    "\t    if row > 0:\n",
    "\t        neighbors.append(self.farms[(row-1) * int(np.sqrt(self.n_farms)) + col])\n",
    "\t    if row < int(np.sqrt(self.n_farms))-1:\n",
    "\t        neighbors.append(self.farms[(row+1) * int(np.sqrt(self.n_farms)) + col])\n",
    "\t\tif col > 0:\n",
    "\t\t\tneighbors.append(self.farms[row * int(np.sqrt(self.n_farms)) + col-1])\n",
    "\t\tif col < int(np.sqrt(self.n_farms))-1:\n",
    "\t\t\tneighbors.append(self.farms[row * int(np.sqrt(self.n_farms)) + col+1])\n",
    "\t\treturn neighbors\n",
    "\n",
    "\tdef plot_contamination_rates(self):\n",
    "\t    # plot contamination rates of all farms over time\n",
    "\t    contamination_rates = []\n",
    "\t    for i in range(self.n_farms):\n",
    "\t        farm = self.farms[i]\n",
    "\t        farm_contamination_rates = [farm.contamination_rate]\n",
    "\t        for t in range(1, self.n_timesteps):\n",
    "\t            farm.update_contamination_rate(self.c, self.k, t)\n",
    "\t            farm_contamination_rates.append(farm.contamination_rate)\n",
    "\t        contamination_rates.append(farm_contamination_rates)\n",
    "\t    plt.figure(figsize=(10,6))\n",
    "\t    plt.title('Contamination Rates Over Time')\n",
    "\t    plt.xlabel('Time')\n",
    "\t    plt.ylabel('Contamination Rate')\n",
    "\t    for i in range(self.n_farms):\n",
    "\t        plt.plot(contamination_rates[i])\n",
    "\t    plt.show()\n",
    "\n",
    "from ABM_model import FarmSimulation\n",
    "\n",
    "# Define simulation parameters\n",
    "n_farms = 100\n",
    "n_timesteps = 100\n",
    "technology_levels = [1] * n_farms\n",
    "initial_contamination_rates = [0.5] * n_farms\n",
    "region_mean_contamination_rates = [0.5] * n_farms\n",
    "f = [0.2, 0.2, 0.2, 0.2, 0.2]\n",
    "beta = [0.25, 0.25, 0.25, 0.25]\n",
    "c_e = 0.1\n",
    "c_k = 0.1\n",
    "\n",
    "# Create and run simulation\n",
    "simulation = FarmSimulation()\n",
    "simulation.init(n_farms, n_timesteps, technology_levels, initial_contamination_rates, region_mean_contamination_rates)\n",
    "for t in range(n_timesteps):\n",
    "    simulation.run_simulation(f, beta, c_e, c_k)\n"
   ]
  },
  {
   "cell_type": "code",
   "execution_count": null,
   "metadata": {},
   "outputs": [],
   "source": []
  }
 ],
 "metadata": {
  "kernelspec": {
   "display_name": "Python 3",
   "language": "python",
   "name": "python3"
  },
  "language_info": {
   "codemirror_mode": {
    "name": "ipython",
    "version": 3
   },
   "file_extension": ".py",
   "mimetype": "text/x-python",
   "name": "python",
   "nbconvert_exporter": "python",
   "pygments_lexer": "ipython3",
   "version": "3.11.2"
  },
  "orig_nbformat": 4,
  "vscode": {
   "interpreter": {
    "hash": "b0fa6594d8f4cbf19f97940f81e996739fb7646882a419484c72d19e05852a7e"
   }
  }
 },
 "nbformat": 4,
 "nbformat_minor": 2
}
