{
 "cells": [
  {
   "cell_type": "code",
   "execution_count": null,
   "metadata": {},
   "outputs": [],
   "source": []
  },
  {
   "cell_type": "code",
   "execution_count": null,
   "metadata": {},
   "outputs": [],
   "source": []
  },
  {
   "cell_type": "code",
   "execution_count": null,
   "metadata": {},
   "outputs": [],
   "source": [
    "import numpy as np\n",
    "import pandas as pd\n",
    "\n",
    "class Farm:\n",
    "    def __init__(self, c, k):\n",
    "        self.c = c\n",
    "        self.k = k\n",
    "        self.alpha = None\n",
    "        self.J = None\n",
    "\n",
    "    def calculate_contamination_rate(self, T):\n",
    "        self.alpha = np.exp(-self.c * T * self.k)\n",
    "        return self.alpha\n",
    "\n",
    "    def calculate_cost_function(self, f, beta, P, c_e, c_k):\n",
    "        self.J = sum([f[i] * self.alpha * np.prod(beta[:i+1]) + f[i+1] * self.alpha * np.prod(1 - beta[:i+1]) * beta[i+1] for i in range(4)])\n",
    "        self.J += f[5] * self.alpha * np.prod(1 - beta) * P + c_e + c_k\n",
    "        return self.J\n",
    "\n",
    "    def update_risk_control_effort(self, D1, D2, h, delta, T, lambda_1, lambda_2, lambda_3):\n",
    "        self.c = self.c + lambda_1 * D1 + lambda_2 * D2 + lambda_3 * (D2 - h) + delta * T\n",
    "\n",
    "    def update_risk_control_technology(self, D1, D2, D3, T, omega_1, omega_2, omega_3):\n",
    "        self.k = self.k + omega_1 * D1 + omega_2 * D2 + omega_3 * D3 * T"
   ]
  }
 ],
 "metadata": {
  "language_info": {
   "name": "python"
  },
  "orig_nbformat": 4
 },
 "nbformat": 4,
 "nbformat_minor": 2
}
